{
 "cells": [
  {
   "cell_type": "markdown",
   "metadata": {},
   "source": [
    "### Cab-Driver Agent"
   ]
  },
  {
   "cell_type": "code",
   "execution_count": 1,
   "metadata": {},
   "outputs": [],
   "source": [
    "# Importing libraries\n",
    "import numpy as np\n",
    "import random\n",
    "import math\n",
    "from collections import deque\n",
    "import collections\n",
    "import pickle\n",
    "import time\n",
    "import os\n",
    "from datetime import datetime\n",
    "\n",
    "# for building DQN model\n",
    "from keras import layers\n",
    "from keras import Sequential\n",
    "from keras.layers import Dense, Activation, Flatten\n",
    "from keras.optimizers import Adam\n",
    "\n",
    "# for plotting graphs\n",
    "import matplotlib.pyplot as plt\n",
    "\n",
    "# Import the environment\n",
    "from Env import CabDriver"
   ]
  },
  {
   "cell_type": "markdown",
   "metadata": {},
   "source": [
    "#### Defining Time Matrix"
   ]
  },
  {
   "cell_type": "code",
   "execution_count": 2,
   "metadata": {},
   "outputs": [],
   "source": [
    "# Loading the time matrix provided\n",
    "Time_matrix = np.load(\"TM.npy\")"
   ]
  },
  {
   "cell_type": "code",
   "execution_count": 3,
   "metadata": {},
   "outputs": [],
   "source": [
    "# Debug print flag \n",
    "\n",
    "DEBUG = False"
   ]
  },
  {
   "cell_type": "markdown",
   "metadata": {},
   "source": [
    "#### Tracking the state-action pairs for checking convergence\n"
   ]
  },
  {
   "cell_type": "code",
   "execution_count": 4,
   "metadata": {},
   "outputs": [],
   "source": [
    "def to_string(state_or_action):\n",
    "    return ('-'.join(str(e) for e in state_or_action))"
   ]
  },
  {
   "cell_type": "code",
   "execution_count": 5,
   "metadata": {},
   "outputs": [],
   "source": [
    "def initialise_tracking_states(state_space, action_space):\n",
    "    for state in state_space:\n",
    "        for action in action_space:\n",
    "            state_str = to_string(state)\n",
    "            action_str = to_string(action)\n",
    "            States_track[state_str][action_str] = []"
   ]
  },
  {
   "cell_type": "code",
   "execution_count": 6,
   "metadata": {},
   "outputs": [],
   "source": [
    "def save_tracking_states(curr_state, curr_action, q_value):\n",
    "    for state in States_track.keys():\n",
    "        if state == curr_state:\n",
    "            for action in States_track[state].keys():\n",
    "                if action == curr_action:\n",
    "                    States_track[state][action].append(q_value)"
   ]
  },
  {
   "cell_type": "code",
   "execution_count": 7,
   "metadata": {},
   "outputs": [],
   "source": [
    "# #Defining a function to save the Q-dictionary as a pickle file\n",
    "# def save_obj(obj, name ):\n",
    "#     with open(name + '.pkl', 'wb') as f:\n",
    "#         pickle.dump(obj, f, pickle.HIGHEST_PROTOCOL)"
   ]
  },
  {
   "cell_type": "markdown",
   "metadata": {},
   "source": [
    "### Agent Class\n",
    "\n",
    "If you are using this framework, you need to fill the following to complete the following code block:\n",
    "1. State and Action Size\n",
    "2. Hyperparameters\n",
    "3. Create a neural-network model in function 'build_model()'\n",
    "4. Define epsilon-greedy strategy in function 'get_action()'\n",
    "5. Complete the function 'append_sample()'. This function appends the recent experience tuple <state, action, reward, new-state> to the memory\n",
    "6. Complete the 'train_model()' function with following logic:\n",
    "   - If the memory size is greater than mini-batch size, you randomly sample experiences from memory as per the mini-batch size and do the following:\n",
    "      - Initialise your input and output batch for training the model\n",
    "      - Calculate the target Q value for each sample: reward + gamma*max(Q(s'a,))\n",
    "      - Get Q(s', a) values from the last trained model\n",
    "      - Update the input batch as your encoded state and output batch as your Q-values\n",
    "      - Then fit your DQN model using the updated input and output batch."
   ]
  },
  {
   "cell_type": "code",
   "execution_count": 8,
   "metadata": {},
   "outputs": [],
   "source": [
    "class DQNAgent:\n",
    "    def __init__(self, state_size, action_size, action_space):\n",
    "        # Define size of state and action\n",
    "        self.state_size = state_size\n",
    "        self.action_size = action_size\n",
    "        self.action_space = action_space\n",
    "\n",
    "        # Write here: Specify you hyper parameters for the DQN\n",
    "        self.discount_factor = 0.99\n",
    "        self.learning_rate = 0.001       \n",
    "        self.epsilon_max = 1.0\n",
    "        self.epsilon_decay = 0.00065 #0.999\n",
    "        self.epsilon_min = 0\n",
    "        \n",
    "        self.batch_size = 32    \n",
    "        # create replay memory using deque\n",
    "        self.memory = deque(maxlen=2000)\n",
    "\n",
    "        # create main model and target model\n",
    "        self.model = self.build_model()\n",
    "\n",
    "    # approximate Q function using Neural Network\n",
    "    def build_model(self):\n",
    "        model = Sequential()\n",
    "        # Write your code here: Add layers to your neural nets\n",
    "        model.add(Dense(32, input_dim=self.state_size, activation='relu',\n",
    "                        kernel_initializer='he_uniform'))\n",
    "        model.add(Dense(32, activation='relu',\n",
    "                        kernel_initializer='he_uniform'))\n",
    "        model.add(Dense(self.action_size, activation='linear',\n",
    "                        kernel_initializer='he_uniform'))\n",
    "        # model.summary() \n",
    "        \n",
    "        model.compile(loss='mse',optimizer=Adam(lr=self.learning_rate))\n",
    "        model.summary\n",
    "        return model\n",
    "\n",
    "    def get_epsilon(self, time):\n",
    "        return self.epsilon_min + (self.epsilon_max - self.epsilon_min) * np.exp(-self.epsilon_decay*time)\n",
    "\n",
    "    def get_action(self, state, time):\n",
    "    # Write your code here:\n",
    "    # get action from model using epsilon-greedy policy\n",
    "    # Decay in ε after we generate each sample from the environment       \n",
    "\n",
    "        epsilon = self.get_epsilon(time)\n",
    "\n",
    "        possible_actions_index, all_possible_actions = env.requests(state)\n",
    "\n",
    "        if len(possible_actions_index) == 0:\n",
    "            return all_possible_actions[0]\n",
    "\n",
    "        if (np.random.rand() <= epsilon):\n",
    "            return random.choice(all_possible_actions)\n",
    "        # if generated random number is greater than ε, choose the action which has max Q-value\n",
    "        else:\n",
    "            state = env.state_encod_arch1(state)\n",
    "            state = state.reshape(1, self.state_size)\n",
    "            q_values = self.model.predict(state)[0]\n",
    "            \n",
    "            argmax = np.argmax(q_values[possible_actions_index])\n",
    "#             DEBUG and print(f'q_values: {q_values}, available_q_vals: {q_values[possible_actions_index]}, argmax: {argmax}, all_possible_actions: {all_possible_actions}')\n",
    "            return all_possible_actions[argmax]\n",
    "\n",
    "    def append_sample(self, state, action, reward, next_state, isTerminal):\n",
    "    # Write your code here:\n",
    "    # save sample <s,a,r,s'> to the replay memory\n",
    "        self.memory.append((state, action, reward, next_state, isTerminal))\n",
    "    \n",
    "    def get_q_values(self, state):\n",
    "        return self.model.predict(state)[0]\n",
    "    \n",
    "    # pick samples randomly from replay memory (with batch_size) and train the network\n",
    "    def train_model(self):\n",
    "        if len(self.memory) > self.batch_size:\n",
    "            # Sample batch from the memory\n",
    "            mini_batch = random.sample(self.memory, self.batch_size)\n",
    "            update_output = np.zeros((self.batch_size, self.state_size)) # write here\n",
    "            update_input = np.zeros((self.batch_size, self.state_size)) # write here\n",
    "            \n",
    "            actions, rewards, terminal_states  = [], [], []\n",
    "            \n",
    "            for i in range(self.batch_size):\n",
    "                state, action, reward, next_state, isTerminal = mini_batch[i]\n",
    "                # Write your code from here\n",
    "                # 1. Predict the target from earlier model\n",
    "                update_input[i] = env.state_encod_arch1(state).reshape(1, self.state_size)\n",
    "                actions.append(action)\n",
    "                rewards.append(reward)\n",
    "                update_output[i] = env.state_encod_arch1(next_state).reshape(1, self.state_size)   \n",
    "                terminal_states.append(isTerminal)\n",
    "                \n",
    "            # 2. Get the target for the Q-network\n",
    "            target = self.model.predict(update_input)\n",
    "            target_qval = self.model.predict(update_output)\n",
    "            \n",
    "            #3. Update your 'update_output' and 'update_input' batch\n",
    "            for i in range(self.batch_size):\n",
    "                action_idx = action_space.index(actions[i])\n",
    "                if terminal_states[i]:                    \n",
    "                    target[i][action_idx] = rewards[i]\n",
    "                else: # non-terminal state\n",
    "                    target[i][action_idx] = rewards[i] + self.discount_factor * np.max(target_qval[i])                    \n",
    "                    \n",
    "            # 4. Fit your model and track the loss values\n",
    "            self.model.fit(update_input, target, batch_size=self.batch_size, epochs=1, verbose=0)\n",
    "\n",
    "    def save(self, name):\n",
    "        self.model.save(name)"
   ]
  },
  {
   "cell_type": "code",
   "execution_count": 9,
   "metadata": {},
   "outputs": [],
   "source": [
    "Episodes = 1000\n",
    "\n",
    "env = CabDriver()\n",
    "action_space, state_space, state = env.reset()\n",
    "action_size = len(action_space)\n",
    "state_size = len(env.state_encod_arch1(state_space[0]))\n",
    "\n",
    "agent = DQNAgent(state_size, action_size, action_space)\n",
    "\n",
    "States_track = collections.defaultdict(dict)\n",
    "initialise_tracking_states(state_space, action_space)\n",
    "\n",
    "# create folder with current time stamp\n",
    "DIR_NAME = os.path.join(\n",
    "        os.getcwd(), \n",
    "        'model-' + datetime.now().strftime('%Y-%m-%d_%H-%M-%S'))\n",
    "os.makedirs(DIR_NAME)\n",
    "\n",
    "agent.epsilon_decay = 80.0/(Episodes * 10)\n",
    "\n",
    "scores = {}\n",
    "\n",
    "start_time = time.time()"
   ]
  },
  {
   "cell_type": "markdown",
   "metadata": {},
   "source": [
    "### DQN block"
   ]
  },
  {
   "cell_type": "code",
   "execution_count": 10,
   "metadata": {
    "tags": []
   },
   "outputs": [
    {
     "name": "stdout",
     "output_type": "stream",
     "text": [
      "WARNING:tensorflow:AutoGraph could not transform <function Model.make_predict_function.<locals>.predict_function at 0x0000015E9D690A68> and will run it as-is.\n",
      "Please report this to the TensorFlow team. When filing the bug, set the verbosity to 10 (on Linux, `export AUTOGRAPH_VERBOSITY=10`) and attach the full output.\n",
      "Cause: 'arguments' object has no attribute 'posonlyargs'\n",
      "To silence this warning, decorate the function with @tf.autograph.experimental.do_not_convert\n",
      "WARNING: AutoGraph could not transform <function Model.make_predict_function.<locals>.predict_function at 0x0000015E9D690A68> and will run it as-is.\n",
      "Please report this to the TensorFlow team. When filing the bug, set the verbosity to 10 (on Linux, `export AUTOGRAPH_VERBOSITY=10`) and attach the full output.\n",
      "Cause: 'arguments' object has no attribute 'posonlyargs'\n",
      "To silence this warning, decorate the function with @tf.autograph.experimental.do_not_convert\n",
      "WARNING:tensorflow:AutoGraph could not transform <function Model.make_train_function.<locals>.train_function at 0x0000015E9FEEB048> and will run it as-is.\n",
      "Please report this to the TensorFlow team. When filing the bug, set the verbosity to 10 (on Linux, `export AUTOGRAPH_VERBOSITY=10`) and attach the full output.\n",
      "Cause: 'arguments' object has no attribute 'posonlyargs'\n",
      "To silence this warning, decorate the function with @tf.autograph.experimental.do_not_convert\n",
      "WARNING: AutoGraph could not transform <function Model.make_train_function.<locals>.train_function at 0x0000015E9FEEB048> and will run it as-is.\n",
      "Please report this to the TensorFlow team. When filing the bug, set the verbosity to 10 (on Linux, `export AUTOGRAPH_VERBOSITY=10`) and attach the full output.\n",
      "Cause: 'arguments' object has no attribute 'posonlyargs'\n",
      "To silence this warning, decorate the function with @tf.autograph.experimental.do_not_convert\n",
      "Score 0: -12.0\n",
      "Score 1: 73.0\n",
      "Score 2: 44.0\n",
      "Score 3: 294.0\n",
      "Score 4: 196.0\n",
      "Score 5: 293.0\n",
      "Score 6: 33.0\n",
      "Score 7: 298.0\n",
      "Score 8: 456.0\n",
      "Score 9: 268.0\n",
      "Score 10: 407.0\n",
      "Score 11: 342.0\n",
      "Score 12: 659.0\n",
      "Score 13: 843.0\n",
      "Score 14: 497.0\n",
      "Score 15: 550.0\n",
      "Score 16: 507.0\n",
      "Score 17: 284.0\n",
      "Score 18: 396.0\n",
      "Score 19: 666.0\n",
      "Score 20: 358.0\n",
      "Score 21: 576.0\n",
      "Score 22: 497.0\n",
      "Score 23: 669.0\n",
      "Score 24: 617.0\n",
      "Score 25: 570.0\n",
      "Score 26: 930.0\n",
      "Score 27: 779.0\n",
      "Score 28: 398.0\n",
      "Score 29: 561.0\n",
      "Score 30: 754.0\n",
      "Score 31: 969.0\n",
      "Score 32: 710.0\n",
      "Score 33: 650.0\n",
      "Score 34: 790.0\n",
      "Score 35: 458.0\n",
      "Score 36: 479.0\n",
      "Score 37: 701.0\n",
      "Score 38: 897.0\n",
      "Score 39: 760.0\n",
      "Score 40: 743.0\n",
      "Score 41: 768.0\n",
      "Score 42: 882.0\n",
      "Score 43: 749.0\n",
      "Score 44: 881.0\n",
      "Score 45: 849.0\n",
      "Score 46: 768.0\n",
      "Score 47: 1164.0\n",
      "Score 48: 1033.0\n",
      "Score 49: 984.0\n",
      "Entire Operation took 1788.6133193969727 seconds\n"
     ]
    }
   ],
   "source": [
    "for episode in range(Episodes):\n",
    "\n",
    "    # Write code here\n",
    "    # Call the environment\n",
    "    # Call all the initialised variables of the environment\n",
    "    \n",
    "\n",
    "    #Call the DQN agent\n",
    "\n",
    "    day = 0\n",
    "    score = 0\n",
    "    terminal_state = False\n",
    "\n",
    "    # reset the state before new episode\n",
    "    _, _, state = env.reset()\n",
    "    initial_state = state\n",
    "        \n",
    "    while not terminal_state:        \n",
    "        # Write your code here\n",
    "        # 1. Pick epsilon-greedy action from possible actions for the current state\n",
    "        \n",
    "        action = agent.get_action(state, episode)\n",
    "\n",
    "        # 2. Evaluate your reward and next state\n",
    "        next_state, reward = env.step(state, action, Time_matrix)\n",
    "        \n",
    "        # 3. Append the experience to the memory\n",
    "        agent.append_sample(state, action, reward, next_state, terminal_state)\n",
    "        \n",
    "        # 4. Train the model by calling function agent.train_model\n",
    "        agent.train_model()\n",
    "        \n",
    "        # 5. Keep a track of rewards, Q-values, loss\n",
    "        score += reward\n",
    "        \n",
    "        # increase the date if the day is changed\n",
    "        if next_state[2] != state[2]:\n",
    "            day = day + 1\n",
    "        \n",
    "        DEBUG and print(f'state: {state}, action: {action}, next_state: {next_state}, reward: {reward}, day: {day}')\n",
    "\n",
    "        # for tracking\n",
    "        state_enc = env.state_encod_arch1(state)\n",
    "        state_enc = np.reshape(state_enc, [1, 36])\n",
    "        q_values = agent.get_q_values(state_enc)\n",
    "        \n",
    "        state_string = to_string(state)\n",
    "        \n",
    "        for index in range(len(env.action_space)):\n",
    "            action_string = to_string(env.action_space[index])\n",
    "            save_tracking_states(state_string, action_string, q_values[index])\n",
    "            \n",
    "        if day > 30:\n",
    "            terminal_state = True\n",
    "            \n",
    "        state = next_state\n",
    "\n",
    "    print(f'Score {episode}: {score}')\n",
    "    scores[episode] = score\n",
    "    \n",
    "    if ((episode + 1) % 10 == 0):\n",
    "        agent.save(DIR_NAME + '\\\\' + str(episode) + '.h5')\n",
    "\n",
    "\n",
    "elapsed_time = time.time() - start_time\n",
    "print(f'Entire Operation took {elapsed_time} seconds')"
   ]
  },
  {
   "cell_type": "code",
   "execution_count": 11,
   "metadata": {
    "tags": [
     "outputPrepend"
    ]
   },
   "outputs": [
    {
     "data": {
      "image/png": "[encoded data removed]",
      "text/plain": [
       "<Figure size 432x288 with 1 Axes>"
      ]
     },
     "metadata": {
      "needs_background": "light"
     },
     "output_type": "display_data"
    },
    {
     "data": {
      "text/plain": [
       "<Figure size 720x1440 with 0 Axes>"
      ]
     },
     "metadata": {},
     "output_type": "display_data"
    }
   ],
   "source": [
    "# plot score values\n",
    "\n",
    "plt.bar(*zip(*scores.items()))\n",
    "plt.figure(figsize=(10,20))\n",
    "plt.show()"
   ]
  },
  {
   "cell_type": "code",
   "execution_count": 12,
   "metadata": {},
   "outputs": [],
   "source": [
    "# save final model\n",
    "\n",
    "agent.save(DIR_NAME + '\\\\final.h5')"
   ]
  },
  {
   "cell_type": "markdown",
   "metadata": {},
   "source": [
    "### Tracking Convergence"
   ]
  },
  {
   "cell_type": "code",
   "execution_count": 13,
   "metadata": {},
   "outputs": [
    {
     "data": {
      "text/plain": [
       "{}"
      ]
     },
     "execution_count": 13,
     "metadata": {},
     "output_type": "execute_result"
    }
   ],
   "source": [
    "States_track[1-2-0]"
   ]
  },
  {
   "cell_type": "code",
   "execution_count": null,
   "metadata": {},
   "outputs": [],
   "source": []
  },
  {
   "cell_type": "code",
   "execution_count": null,
   "metadata": {},
   "outputs": [],
   "source": []
  },
  {
   "cell_type": "markdown",
   "metadata": {},
   "source": [
    "#### Epsilon-decay sample function"
   ]
  },
  {
   "cell_type": "markdown",
   "metadata": {},
   "source": [
    "<div class=\"alert alert-block alert-info\">\n",
    "Try building a similar epsilon-decay function for your model.\n",
    "</div>"
   ]
  },
  {
   "cell_type": "code",
   "execution_count": 14,
   "metadata": {},
   "outputs": [
    {
     "data": {
      "image/png": "[encoded data removed]",
      "text/plain": [
       "<Figure size 432x288 with 1 Axes>"
      ]
     },
     "metadata": {
      "needs_background": "light"
     },
     "output_type": "display_data"
    }
   ],
   "source": [
    "# time_arr = np.arange(0,1000)\n",
    "epsilon = []\n",
    "for i in range(0,Episodes):\n",
    "    # epsilon.append(0 + (1 - 0) * np.exp(-0.0008*i))\n",
    "    epsilon.append(agent.get_epsilon(i))\n",
    "\n",
    "plt.plot(np.arange(0,Episodes), epsilon)\n",
    "plt.show()"
   ]
  },
  {
   "cell_type": "code",
   "execution_count": 15,
   "metadata": {},
   "outputs": [
    {
     "data": {
      "text/plain": [
       "840"
      ]
     },
     "execution_count": 15,
     "metadata": {},
     "output_type": "execute_result"
    }
   ],
   "source": [
    "len(state_space)"
   ]
  },
  {
   "cell_type": "code",
   "execution_count": null,
   "metadata": {},
   "outputs": [],
   "source": []
  },
  {
   "cell_type": "code",
   "execution_count": null,
   "metadata": {},
   "outputs": [],
   "source": []
  },
  {
   "cell_type": "code",
   "execution_count": 16,
   "metadata": {},
   "outputs": [],
   "source": [
    "a = [1, 2, 3]\n"
   ]
  },
  {
   "cell_type": "code",
   "execution_count": null,
   "metadata": {},
   "outputs": [],
   "source": []
  }
 ],
 "metadata": {
  "kernelspec": {
   "display_name": "Python 3",
   "language": "python",
   "name": "python3"
  },
  "language_info": {
   "codemirror_mode": {
    "name": "ipython",
    "version": 3
   },
   "file_extension": ".py",
   "mimetype": "text/x-python",
   "name": "python",
   "nbconvert_exporter": "python",
   "pygments_lexer": "ipython3",
   "version": "3.7.4"
  }
 },
 "nbformat": 4,
 "nbformat_minor": 2
}
